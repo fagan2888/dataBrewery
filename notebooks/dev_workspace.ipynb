{
 "cells": [
  {
   "cell_type": "code",
   "execution_count": 1,
   "metadata": {
    "Collapsed": "false"
   },
   "outputs": [
    {
     "output_type": "stream",
     "name": "stdout",
     "text": "Populating the interactive namespace from numpy and matplotlib\n"
    }
   ],
   "source": [
    "%load_ext autoreload\n",
    "%pylab inline\n",
    "\n",
    "import numpy as np\n",
    "import pandas as pd\n",
    "\n",
    "sys.path.append('..')\n",
    "import databrewery as db"
   ]
  },
  {
   "cell_type": "code",
   "execution_count": 2,
   "metadata": {
    "Collapsed": "false"
   },
   "outputs": [],
   "source": [
    "%autoreload 2"
   ]
  },
  {
   "cell_type": "code",
   "execution_count": 3,
   "metadata": {
    "Collapsed": "false"
   },
   "outputs": [],
   "source": [
    "cb = db.Catalog('../catalog_template.yml', verbose=1)"
   ]
  },
  {
   "cell_type": "code",
   "execution_count": 4,
   "metadata": {},
   "outputs": [
    {
     "output_type": "execute_result",
     "data": {
      "text/plain": "Path(/Users/luke/Desktop/soda_clim/soda_3.4.2/soda3.4.2_5dy_ocean_reg_{t:%Y_%m_%d}.nc)"
     },
     "metadata": {},
     "execution_count": 4
    }
   ],
   "source": [
    "cb.soda_34.config.local_store"
   ]
  },
  {
   "cell_type": "code",
   "execution_count": 5,
   "metadata": {
    "Collapsed": "false"
   },
   "outputs": [
    {
     "output_type": "stream",
     "name": "stdout",
     "text": "\nDownload report for lsce_ffnnv1:\n----------------------\nremote_not_exist     0\nlocal_exists        24\ndownloaded           0\n======================\n\n"
    },
    {
     "output_type": "execute_result",
     "data": {
      "text/plain": "['/Users/luke/Desktop/pco2_denvilsommer/ffnn_v1/2001/dataset-carbon-rep-monthly_200110.nc',\n '/Users/luke/Desktop/pco2_denvilsommer/ffnn_v1/2001/dataset-carbon-rep-monthly_200111.nc',\n '/Users/luke/Desktop/pco2_denvilsommer/ffnn_v1/2001/dataset-carbon-rep-monthly_200112.nc',\n '/Users/luke/Desktop/pco2_denvilsommer/ffnn_v1/2002/dataset-carbon-rep-monthly_200201.nc',\n '/Users/luke/Desktop/pco2_denvilsommer/ffnn_v1/2002/dataset-carbon-rep-monthly_200202.nc',\n '/Users/luke/Desktop/pco2_denvilsommer/ffnn_v1/2002/dataset-carbon-rep-monthly_200203.nc',\n '/Users/luke/Desktop/pco2_denvilsommer/ffnn_v1/2002/dataset-carbon-rep-monthly_200204.nc',\n '/Users/luke/Desktop/pco2_denvilsommer/ffnn_v1/2002/dataset-carbon-rep-monthly_200205.nc',\n '/Users/luke/Desktop/pco2_denvilsommer/ffnn_v1/2002/dataset-carbon-rep-monthly_200206.nc',\n '/Users/luke/Desktop/pco2_denvilsommer/ffnn_v1/2002/dataset-carbon-rep-monthly_200207.nc',\n '/Users/luke/Desktop/pco2_denvilsommer/ffnn_v1/2002/dataset-carbon-rep-monthly_200208.nc',\n '/Users/luke/Desktop/pco2_denvilsommer/ffnn_v1/2002/dataset-carbon-rep-monthly_200209.nc',\n '/Users/luke/Desktop/pco2_denvilsommer/ffnn_v1/2002/dataset-carbon-rep-monthly_200210.nc',\n '/Users/luke/Desktop/pco2_denvilsommer/ffnn_v1/2002/dataset-carbon-rep-monthly_200211.nc',\n '/Users/luke/Desktop/pco2_denvilsommer/ffnn_v1/2002/dataset-carbon-rep-monthly_200212.nc',\n '/Users/luke/Desktop/pco2_denvilsommer/ffnn_v1/2003/dataset-carbon-rep-monthly_200301.nc',\n '/Users/luke/Desktop/pco2_denvilsommer/ffnn_v1/2003/dataset-carbon-rep-monthly_200302.nc',\n '/Users/luke/Desktop/pco2_denvilsommer/ffnn_v1/2003/dataset-carbon-rep-monthly_200303.nc',\n '/Users/luke/Desktop/pco2_denvilsommer/ffnn_v1/2003/dataset-carbon-rep-monthly_200304.nc',\n '/Users/luke/Desktop/pco2_denvilsommer/ffnn_v1/2003/dataset-carbon-rep-monthly_200305.nc',\n '/Users/luke/Desktop/pco2_denvilsommer/ffnn_v1/2003/dataset-carbon-rep-monthly_200306.nc',\n '/Users/luke/Desktop/pco2_denvilsommer/ffnn_v1/2003/dataset-carbon-rep-monthly_200307.nc',\n '/Users/luke/Desktop/pco2_denvilsommer/ffnn_v1/2003/dataset-carbon-rep-monthly_200308.nc',\n '/Users/luke/Desktop/pco2_denvilsommer/ffnn_v1/2003/dataset-carbon-rep-monthly_200309.nc']"
     },
     "metadata": {},
     "execution_count": 5
    }
   ],
   "source": [
    "cb.lsce_ffnnv1.local_files(slice('2001-10-01', '2003-09-01'), automatic_download=True)"
   ]
  },
  {
   "cell_type": "code",
   "execution_count": null,
   "metadata": {},
   "outputs": [],
   "source": []
  }
 ],
 "metadata": {
  "kernelspec": {
   "display_name": "Python 3",
   "language": "python",
   "name": "python3"
  },
  "language_info": {
   "codemirror_mode": {
    "name": "ipython",
    "version": 3
   },
   "file_extension": ".py",
   "mimetype": "text/x-python",
   "name": "python",
   "nbconvert_exporter": "python",
   "pygments_lexer": "ipython3",
   "version": "3.7.6-final"
  }
 },
 "nbformat": 4,
 "nbformat_minor": 4
}
