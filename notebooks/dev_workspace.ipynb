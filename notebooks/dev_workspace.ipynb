{
 "cells": [
  {
   "cell_type": "code",
   "execution_count": 1,
   "metadata": {
    "Collapsed": "false"
   },
   "outputs": [
    {
     "name": "stdout",
     "output_type": "stream",
     "text": [
      "Populating the interactive namespace from numpy and matplotlib\n"
     ]
    }
   ],
   "source": [
    "%load_ext autoreload\n",
    "%pylab inline\n",
    "\n",
    "import numpy as np\n",
    "import pandas as pd\n",
    "\n",
    "sys.path.append('..')\n",
    "import databrewery as db"
   ]
  },
  {
   "cell_type": "code",
   "execution_count": 2,
   "metadata": {
    "Collapsed": "false"
   },
   "outputs": [],
   "source": [
    "%autoreload 2"
   ]
  },
  {
   "cell_type": "code",
   "execution_count": 8,
   "metadata": {
    "Collapsed": "false"
   },
   "outputs": [],
   "source": [
    "cb = db.Catalog('../catalog_template.yml', verbose=2)"
   ]
  },
  {
   "cell_type": "code",
   "execution_count": 9,
   "metadata": {
    "Collapsed": "false"
   },
   "outputs": [
    {
     "name": "stdin",
     "output_type": "stream",
     "text": [
      "19 missing files to download. Continue [y/n]:  y\n"
     ]
    },
    {
     "name": "stdout",
     "output_type": "stream",
     "text": [
      "Downloading 19 soda_34 files with 1 jobs\n",
      "URL does not exist: http://dsrs.atmos.umd.edu/DATA/soda3.4.2/REGRIDED/ocean/soda3.4.2_5dy_ocean_reg_2009_01_06.nc\n",
      "URL does not exist: http://dsrs.atmos.umd.edu/DATA/soda3.4.2/REGRIDED/ocean/soda3.4.2_5dy_ocean_reg_2009_01_07.nc\n",
      "URL does not exist: http://dsrs.atmos.umd.edu/DATA/soda3.4.2/REGRIDED/ocean/soda3.4.2_5dy_ocean_reg_2009_01_08.nc\n",
      "URL does not exist: http://dsrs.atmos.umd.edu/DATA/soda3.4.2/REGRIDED/ocean/soda3.4.2_5dy_ocean_reg_2009_01_09.nc\n",
      "URL does not exist: http://dsrs.atmos.umd.edu/DATA/soda3.4.2/REGRIDED/ocean/soda3.4.2_5dy_ocean_reg_2009_01_11.nc\n",
      "URL does not exist: http://dsrs.atmos.umd.edu/DATA/soda3.4.2/REGRIDED/ocean/soda3.4.2_5dy_ocean_reg_2009_01_12.nc\n",
      "URL does not exist: http://dsrs.atmos.umd.edu/DATA/soda3.4.2/REGRIDED/ocean/soda3.4.2_5dy_ocean_reg_2009_01_13.nc\n",
      "URL does not exist: http://dsrs.atmos.umd.edu/DATA/soda3.4.2/REGRIDED/ocean/soda3.4.2_5dy_ocean_reg_2009_01_14.nc\n"
     ]
    },
    {
     "name": "stderr",
     "output_type": "stream",
     "text": [
      "\n",
      "\n",
      "\n",
      "Downloading /Users/luke/Desktop/soda_clim/soda_3.4.2/soda3.4.2_5dy_ocean_reg_2009_01_15.nc:   0%|          | 0.00/299M [00:00<?, ?B/s]\u001b[A\u001b[A\u001b[A\n",
      "\n",
      "\n",
      "Downloading /Users/luke/Desktop/soda_clim/soda_3.4.2/soda3.4.2_5dy_ocean_reg_2009_01_15.nc:   0%|          | 15.4k/299M [00:00<34:01, 147kB/s]\u001b[A\u001b[A\u001b[A\n",
      "\n",
      "\n",
      "Downloading /Users/luke/Desktop/soda_clim/soda_3.4.2/soda3.4.2_5dy_ocean_reg_2009_01_15.nc:   0%|          | 46.1k/299M [00:00<28:47, 173kB/s]\u001b[A\u001b[A\u001b[A\n",
      "\n",
      "\n",
      "Downloading /Users/luke/Desktop/soda_clim/soda_3.4.2/soda3.4.2_5dy_ocean_reg_2009_01_15.nc:   0%|          | 102k/299M [00:00<22:55, 218kB/s] \u001b[A\u001b[A\u001b[A\n",
      "\n",
      "\n",
      "Downloading /Users/luke/Desktop/soda_clim/soda_3.4.2/soda3.4.2_5dy_ocean_reg_2009_01_15.nc:   0%|          | 215k/299M [00:00<17:25, 286kB/s]\u001b[A\u001b[A\u001b[A\n",
      "\n",
      "\n",
      "Downloading /Users/luke/Desktop/soda_clim/soda_3.4.2/soda3.4.2_5dy_ocean_reg_2009_01_15.nc:   0%|          | 343k/299M [00:00<13:25, 371kB/s]\u001b[A\u001b[A\u001b[A\n",
      "\n",
      "\n",
      "Downloading /Users/luke/Desktop/soda_clim/soda_3.4.2/soda3.4.2_5dy_ocean_reg_2009_01_15.nc:   0%|          | 558k/299M [00:00<10:06, 493kB/s]\u001b[A\u001b[A\u001b[A\n",
      "\n",
      "\n",
      "Downloading /Users/luke/Desktop/soda_clim/soda_3.4.2/soda3.4.2_5dy_ocean_reg_2009_01_15.nc:   0%|          | 809k/299M [00:00<07:40, 648kB/s]\u001b[A\u001b[A\u001b[A\n",
      "\n",
      "\n",
      "Downloading /Users/luke/Desktop/soda_clim/soda_3.4.2/soda3.4.2_5dy_ocean_reg_2009_01_15.nc:   0%|          | 1.21M/299M [00:00<05:45, 864kB/s]\u001b[A\u001b[A\u001b[A../databrewery/record.py:79: UserWarning: \n",
      "\n",
      "########################################\n",
      "Removed partially downloaded file /Users/luke/Desktop/soda_clim/soda_3.4.2/soda3.4.2_5dy_ocean_reg_2009_01_15.nc\n",
      "########################################\n",
      "\n",
      "  + '#' * 40 + '\\n')\n"
     ]
    },
    {
     "ename": "KeyboardInterrupt",
     "evalue": "",
     "output_type": "error",
     "traceback": [
      "\u001b[0;31m---------------------------------------------------------------------------\u001b[0m",
      "\u001b[0;31mKeyboardInterrupt\u001b[0m                         Traceback (most recent call last)",
      "\u001b[0;32m<ipython-input-9-8bbc46f8ea5d>\u001b[0m in \u001b[0;36m<module>\u001b[0;34m\u001b[0m\n\u001b[0;32m----> 1\u001b[0;31m \u001b[0mcb\u001b[0m\u001b[0;34m.\u001b[0m\u001b[0msoda_34\u001b[0m\u001b[0;34m.\u001b[0m\u001b[0mlocal_files\u001b[0m\u001b[0;34m(\u001b[0m\u001b[0mslice\u001b[0m\u001b[0;34m(\u001b[0m\u001b[0;34m'2009-01-05'\u001b[0m\u001b[0;34m,\u001b[0m \u001b[0;34m'2009-01-25'\u001b[0m\u001b[0;34m)\u001b[0m\u001b[0;34m)\u001b[0m\u001b[0;34m\u001b[0m\u001b[0;34m\u001b[0m\u001b[0m\n\u001b[0m",
      "\u001b[0;32m~/Git/dataBrewery/databrewery/record.py\u001b[0m in \u001b[0;36mlocal_files\u001b[0;34m(self, dates)\u001b[0m\n\u001b[1;32m    174\u001b[0m             \u001b[0mchoice\u001b[0m \u001b[0;34m=\u001b[0m \u001b[0minput\u001b[0m\u001b[0;34m(\u001b[0m\u001b[0;34mf'{n} missing files to download. Continue [y/n]: '\u001b[0m\u001b[0;34m)\u001b[0m\u001b[0;34m\u001b[0m\u001b[0;34m\u001b[0m\u001b[0m\n\u001b[1;32m    175\u001b[0m             \u001b[0;32mif\u001b[0m \u001b[0mchoice\u001b[0m\u001b[0;34m.\u001b[0m\u001b[0mlower\u001b[0m\u001b[0;34m(\u001b[0m\u001b[0;34m)\u001b[0m\u001b[0;34m.\u001b[0m\u001b[0mstartswith\u001b[0m\u001b[0;34m(\u001b[0m\u001b[0;34m'y'\u001b[0m\u001b[0;34m)\u001b[0m\u001b[0;34m:\u001b[0m\u001b[0;34m\u001b[0m\u001b[0;34m\u001b[0m\u001b[0m\n\u001b[0;32m--> 176\u001b[0;31m                 \u001b[0mself\u001b[0m\u001b[0;34m.\u001b[0m\u001b[0m_download_data\u001b[0m\u001b[0;34m(\u001b[0m\u001b[0mdownload_pairs\u001b[0m\u001b[0;34m)\u001b[0m\u001b[0;34m\u001b[0m\u001b[0;34m\u001b[0m\u001b[0m\n\u001b[0m\u001b[1;32m    177\u001b[0m                 \u001b[0;32mreturn\u001b[0m \u001b[0mself\u001b[0m\u001b[0;34m.\u001b[0m\u001b[0mlocal_files\u001b[0m\u001b[0;34m(\u001b[0m\u001b[0mdates\u001b[0m\u001b[0;34m)\u001b[0m\u001b[0;34m\u001b[0m\u001b[0;34m\u001b[0m\u001b[0m\n\u001b[1;32m    178\u001b[0m             \u001b[0;32melse\u001b[0m\u001b[0;34m:\u001b[0m\u001b[0;34m\u001b[0m\u001b[0;34m\u001b[0m\u001b[0m\n",
      "\u001b[0;32m~/Git/dataBrewery/databrewery/record.py\u001b[0m in \u001b[0;36m_download_data\u001b[0;34m(self, file_pairs, njobs)\u001b[0m\n\u001b[1;32m    131\u001b[0m \u001b[0;34m\u001b[0m\u001b[0m\n\u001b[1;32m    132\u001b[0m         \u001b[0;32mif\u001b[0m \u001b[0mnjobs\u001b[0m \u001b[0;34m==\u001b[0m \u001b[0;36m1\u001b[0m\u001b[0;34m:\u001b[0m\u001b[0;34m\u001b[0m\u001b[0;34m\u001b[0m\u001b[0m\n\u001b[0;32m--> 133\u001b[0;31m             \u001b[0mout\u001b[0m \u001b[0;34m=\u001b[0m \u001b[0mself\u001b[0m\u001b[0;34m.\u001b[0m\u001b[0m_download_single_process\u001b[0m\u001b[0;34m(\u001b[0m\u001b[0mfile_pairs\u001b[0m\u001b[0;34m)\u001b[0m\u001b[0;34m\u001b[0m\u001b[0;34m\u001b[0m\u001b[0m\n\u001b[0m\u001b[1;32m    134\u001b[0m \u001b[0;34m\u001b[0m\u001b[0m\n\u001b[1;32m    135\u001b[0m         \u001b[0;31m# TODO: parallel downloads are currently broken. Could improve\u001b[0m\u001b[0;34m\u001b[0m\u001b[0;34m\u001b[0m\u001b[0;34m\u001b[0m\u001b[0m\n",
      "\u001b[0;32m~/Git/dataBrewery/databrewery/record.py\u001b[0m in \u001b[0;36m_download_single_process\u001b[0;34m(self, remote_local_files)\u001b[0m\n\u001b[1;32m     78\u001b[0m                          \u001b[0;34mf'\\nRemoved partially downloaded file {local}\\n'\u001b[0m\u001b[0;34m\u001b[0m\u001b[0;34m\u001b[0m\u001b[0m\n\u001b[1;32m     79\u001b[0m                          + '#' * 40 + '\\n')\n\u001b[0;32m---> 80\u001b[0;31m                 \u001b[0;32mraise\u001b[0m \u001b[0me\u001b[0m\u001b[0;34m\u001b[0m\u001b[0;34m\u001b[0m\u001b[0m\n\u001b[0m\u001b[1;32m     81\u001b[0m \u001b[0;34m\u001b[0m\u001b[0m\n\u001b[1;32m     82\u001b[0m         \u001b[0mdownloader\u001b[0m\u001b[0;34m.\u001b[0m\u001b[0mclose_connection\u001b[0m\u001b[0;34m(\u001b[0m\u001b[0;34m)\u001b[0m\u001b[0;34m\u001b[0m\u001b[0;34m\u001b[0m\u001b[0m\n",
      "\u001b[0;32m~/Git/dataBrewery/databrewery/record.py\u001b[0m in \u001b[0;36m_download_single_process\u001b[0;34m(self, remote_local_files)\u001b[0m\n\u001b[1;32m     70\u001b[0m         \u001b[0;32mfor\u001b[0m \u001b[0mremote\u001b[0m\u001b[0;34m,\u001b[0m \u001b[0mlocal\u001b[0m \u001b[0;32min\u001b[0m \u001b[0mremote_local_files\u001b[0m\u001b[0;34m:\u001b[0m\u001b[0;34m\u001b[0m\u001b[0;34m\u001b[0m\u001b[0m\n\u001b[1;32m     71\u001b[0m             \u001b[0;32mtry\u001b[0m\u001b[0;34m:\u001b[0m\u001b[0;34m\u001b[0m\u001b[0;34m\u001b[0m\u001b[0m\n\u001b[0;32m---> 72\u001b[0;31m                 \u001b[0mmsg\u001b[0m \u001b[0;34m=\u001b[0m \u001b[0mdownloader\u001b[0m\u001b[0;34m.\u001b[0m\u001b[0mdownload_file\u001b[0m\u001b[0;34m(\u001b[0m\u001b[0mremote\u001b[0m\u001b[0;34m,\u001b[0m \u001b[0mlocal\u001b[0m\u001b[0;34m)\u001b[0m\u001b[0;34m\u001b[0m\u001b[0;34m\u001b[0m\u001b[0m\n\u001b[0m\u001b[1;32m     73\u001b[0m                 \u001b[0moutmsg\u001b[0m\u001b[0;34m[\u001b[0m\u001b[0mmsg_decipher\u001b[0m\u001b[0;34m[\u001b[0m\u001b[0mmsg\u001b[0m\u001b[0;34m]\u001b[0m\u001b[0;34m]\u001b[0m \u001b[0;34m+=\u001b[0m \u001b[0mremote\u001b[0m\u001b[0;34m,\u001b[0m\u001b[0;34m\u001b[0m\u001b[0;34m\u001b[0m\u001b[0m\n\u001b[1;32m     74\u001b[0m             \u001b[0;32mexcept\u001b[0m \u001b[0;34m(\u001b[0m\u001b[0mException\u001b[0m\u001b[0;34m,\u001b[0m \u001b[0mKeyboardInterrupt\u001b[0m\u001b[0;34m)\u001b[0m \u001b[0;32mas\u001b[0m \u001b[0me\u001b[0m\u001b[0;34m:\u001b[0m\u001b[0;34m\u001b[0m\u001b[0;34m\u001b[0m\u001b[0m\n",
      "\u001b[0;32m~/Git/dataBrewery/databrewery/download.py\u001b[0m in \u001b[0;36mdownload_file\u001b[0;34m(self, remote, local)\u001b[0m\n\u001b[1;32m     66\u001b[0m         \u001b[0mdescription\u001b[0m \u001b[0;34m=\u001b[0m \u001b[0;34mf'Downloading {slocal}'\u001b[0m\u001b[0;34m\u001b[0m\u001b[0;34m\u001b[0m\u001b[0m\n\u001b[1;32m     67\u001b[0m         \u001b[0;32mif\u001b[0m \u001b[0mint\u001b[0m\u001b[0;34m(\u001b[0m\u001b[0mself\u001b[0m\u001b[0;34m.\u001b[0m\u001b[0mverbose\u001b[0m\u001b[0;34m)\u001b[0m \u001b[0;34m>=\u001b[0m \u001b[0;36m2\u001b[0m\u001b[0;34m:\u001b[0m\u001b[0;34m\u001b[0m\u001b[0;34m\u001b[0m\u001b[0m\n\u001b[0;32m---> 68\u001b[0;31m             \u001b[0mout\u001b[0m \u001b[0;34m=\u001b[0m \u001b[0mself\u001b[0m\u001b[0;34m.\u001b[0m\u001b[0m_vdownload\u001b[0m\u001b[0;34m(\u001b[0m\u001b[0mremote\u001b[0m\u001b[0;34m,\u001b[0m \u001b[0mlocal\u001b[0m\u001b[0;34m,\u001b[0m \u001b[0mdescription\u001b[0m\u001b[0;34m)\u001b[0m\u001b[0;34m\u001b[0m\u001b[0;34m\u001b[0m\u001b[0m\n\u001b[0m\u001b[1;32m     69\u001b[0m         \u001b[0;32melse\u001b[0m\u001b[0;34m:\u001b[0m\u001b[0;34m\u001b[0m\u001b[0;34m\u001b[0m\u001b[0m\n\u001b[1;32m     70\u001b[0m             \u001b[0mself\u001b[0m\u001b[0;34m.\u001b[0m\u001b[0m_print\u001b[0m\u001b[0;34m(\u001b[0m\u001b[0mdescription\u001b[0m\u001b[0;34m,\u001b[0m \u001b[0mlvl\u001b[0m\u001b[0;34m=\u001b[0m\u001b[0;36m1\u001b[0m\u001b[0;34m)\u001b[0m\u001b[0;34m\u001b[0m\u001b[0;34m\u001b[0m\u001b[0m\n",
      "\u001b[0;32m~/Git/dataBrewery/databrewery/download.py\u001b[0m in \u001b[0;36m_vdownload\u001b[0;34m(self, remote, local, pbar_desc)\u001b[0m\n\u001b[1;32m    288\u001b[0m         \u001b[0mpbar\u001b[0m \u001b[0;34m=\u001b[0m \u001b[0mtqdm\u001b[0m\u001b[0;34m(\u001b[0m\u001b[0mdesc\u001b[0m\u001b[0;34m=\u001b[0m\u001b[0mpbar_desc\u001b[0m\u001b[0;34m,\u001b[0m \u001b[0mtotal\u001b[0m\u001b[0;34m=\u001b[0m\u001b[0msize\u001b[0m\u001b[0;34m,\u001b[0m \u001b[0munit\u001b[0m\u001b[0;34m=\u001b[0m\u001b[0;34m'B'\u001b[0m\u001b[0;34m,\u001b[0m \u001b[0munit_scale\u001b[0m\u001b[0;34m=\u001b[0m\u001b[0;32mTrue\u001b[0m\u001b[0;34m)\u001b[0m\u001b[0;34m\u001b[0m\u001b[0;34m\u001b[0m\u001b[0m\n\u001b[1;32m    289\u001b[0m         \u001b[0;32mwith\u001b[0m \u001b[0mopen\u001b[0m\u001b[0;34m(\u001b[0m\u001b[0mlocal\u001b[0m\u001b[0;34m,\u001b[0m \u001b[0;34m'wb'\u001b[0m\u001b[0;34m)\u001b[0m \u001b[0;32mas\u001b[0m \u001b[0mf\u001b[0m\u001b[0;34m:\u001b[0m\u001b[0;34m\u001b[0m\u001b[0;34m\u001b[0m\u001b[0m\n\u001b[0;32m--> 290\u001b[0;31m             \u001b[0;32mfor\u001b[0m \u001b[0mdata\u001b[0m \u001b[0;32min\u001b[0m \u001b[0mreq\u001b[0m\u001b[0;34m.\u001b[0m\u001b[0miter_content\u001b[0m\u001b[0;34m(\u001b[0m\u001b[0mstep\u001b[0m\u001b[0;34m)\u001b[0m\u001b[0;34m:\u001b[0m\u001b[0;34m\u001b[0m\u001b[0;34m\u001b[0m\u001b[0m\n\u001b[0m\u001b[1;32m    291\u001b[0m                 \u001b[0mpbar\u001b[0m\u001b[0;34m.\u001b[0m\u001b[0mupdate\u001b[0m\u001b[0;34m(\u001b[0m\u001b[0mlen\u001b[0m\u001b[0;34m(\u001b[0m\u001b[0mdata\u001b[0m\u001b[0;34m)\u001b[0m\u001b[0;34m)\u001b[0m\u001b[0;34m\u001b[0m\u001b[0;34m\u001b[0m\u001b[0m\n\u001b[1;32m    292\u001b[0m                 \u001b[0mf\u001b[0m\u001b[0;34m.\u001b[0m\u001b[0mwrite\u001b[0m\u001b[0;34m(\u001b[0m\u001b[0mdata\u001b[0m\u001b[0;34m)\u001b[0m\u001b[0;34m\u001b[0m\u001b[0;34m\u001b[0m\u001b[0m\n",
      "\u001b[0;32m~/Applications/anaconda3/lib/python3.7/site-packages/requests/models.py\u001b[0m in \u001b[0;36mgenerate\u001b[0;34m()\u001b[0m\n\u001b[1;32m    748\u001b[0m             \u001b[0;32mif\u001b[0m \u001b[0mhasattr\u001b[0m\u001b[0;34m(\u001b[0m\u001b[0mself\u001b[0m\u001b[0;34m.\u001b[0m\u001b[0mraw\u001b[0m\u001b[0;34m,\u001b[0m \u001b[0;34m'stream'\u001b[0m\u001b[0;34m)\u001b[0m\u001b[0;34m:\u001b[0m\u001b[0;34m\u001b[0m\u001b[0;34m\u001b[0m\u001b[0m\n\u001b[1;32m    749\u001b[0m                 \u001b[0;32mtry\u001b[0m\u001b[0;34m:\u001b[0m\u001b[0;34m\u001b[0m\u001b[0;34m\u001b[0m\u001b[0m\n\u001b[0;32m--> 750\u001b[0;31m                     \u001b[0;32mfor\u001b[0m \u001b[0mchunk\u001b[0m \u001b[0;32min\u001b[0m \u001b[0mself\u001b[0m\u001b[0;34m.\u001b[0m\u001b[0mraw\u001b[0m\u001b[0;34m.\u001b[0m\u001b[0mstream\u001b[0m\u001b[0;34m(\u001b[0m\u001b[0mchunk_size\u001b[0m\u001b[0;34m,\u001b[0m \u001b[0mdecode_content\u001b[0m\u001b[0;34m=\u001b[0m\u001b[0;32mTrue\u001b[0m\u001b[0;34m)\u001b[0m\u001b[0;34m:\u001b[0m\u001b[0;34m\u001b[0m\u001b[0;34m\u001b[0m\u001b[0m\n\u001b[0m\u001b[1;32m    751\u001b[0m                         \u001b[0;32myield\u001b[0m \u001b[0mchunk\u001b[0m\u001b[0;34m\u001b[0m\u001b[0;34m\u001b[0m\u001b[0m\n\u001b[1;32m    752\u001b[0m                 \u001b[0;32mexcept\u001b[0m \u001b[0mProtocolError\u001b[0m \u001b[0;32mas\u001b[0m \u001b[0me\u001b[0m\u001b[0;34m:\u001b[0m\u001b[0;34m\u001b[0m\u001b[0;34m\u001b[0m\u001b[0m\n",
      "\u001b[0;32m~/Applications/anaconda3/lib/python3.7/site-packages/urllib3/response.py\u001b[0m in \u001b[0;36mstream\u001b[0;34m(self, amt, decode_content)\u001b[0m\n\u001b[1;32m    492\u001b[0m         \u001b[0;32melse\u001b[0m\u001b[0;34m:\u001b[0m\u001b[0;34m\u001b[0m\u001b[0;34m\u001b[0m\u001b[0m\n\u001b[1;32m    493\u001b[0m             \u001b[0;32mwhile\u001b[0m \u001b[0;32mnot\u001b[0m \u001b[0mis_fp_closed\u001b[0m\u001b[0;34m(\u001b[0m\u001b[0mself\u001b[0m\u001b[0;34m.\u001b[0m\u001b[0m_fp\u001b[0m\u001b[0;34m)\u001b[0m\u001b[0;34m:\u001b[0m\u001b[0;34m\u001b[0m\u001b[0;34m\u001b[0m\u001b[0m\n\u001b[0;32m--> 494\u001b[0;31m                 \u001b[0mdata\u001b[0m \u001b[0;34m=\u001b[0m \u001b[0mself\u001b[0m\u001b[0;34m.\u001b[0m\u001b[0mread\u001b[0m\u001b[0;34m(\u001b[0m\u001b[0mamt\u001b[0m\u001b[0;34m=\u001b[0m\u001b[0mamt\u001b[0m\u001b[0;34m,\u001b[0m \u001b[0mdecode_content\u001b[0m\u001b[0;34m=\u001b[0m\u001b[0mdecode_content\u001b[0m\u001b[0;34m)\u001b[0m\u001b[0;34m\u001b[0m\u001b[0;34m\u001b[0m\u001b[0m\n\u001b[0m\u001b[1;32m    495\u001b[0m \u001b[0;34m\u001b[0m\u001b[0m\n\u001b[1;32m    496\u001b[0m                 \u001b[0;32mif\u001b[0m \u001b[0mdata\u001b[0m\u001b[0;34m:\u001b[0m\u001b[0;34m\u001b[0m\u001b[0;34m\u001b[0m\u001b[0m\n",
      "\u001b[0;32m~/Applications/anaconda3/lib/python3.7/site-packages/urllib3/response.py\u001b[0m in \u001b[0;36mread\u001b[0;34m(self, amt, decode_content, cache_content)\u001b[0m\n\u001b[1;32m    440\u001b[0m             \u001b[0;32melse\u001b[0m\u001b[0;34m:\u001b[0m\u001b[0;34m\u001b[0m\u001b[0;34m\u001b[0m\u001b[0m\n\u001b[1;32m    441\u001b[0m                 \u001b[0mcache_content\u001b[0m \u001b[0;34m=\u001b[0m \u001b[0;32mFalse\u001b[0m\u001b[0;34m\u001b[0m\u001b[0;34m\u001b[0m\u001b[0m\n\u001b[0;32m--> 442\u001b[0;31m                 \u001b[0mdata\u001b[0m \u001b[0;34m=\u001b[0m \u001b[0mself\u001b[0m\u001b[0;34m.\u001b[0m\u001b[0m_fp\u001b[0m\u001b[0;34m.\u001b[0m\u001b[0mread\u001b[0m\u001b[0;34m(\u001b[0m\u001b[0mamt\u001b[0m\u001b[0;34m)\u001b[0m\u001b[0;34m\u001b[0m\u001b[0;34m\u001b[0m\u001b[0m\n\u001b[0m\u001b[1;32m    443\u001b[0m                 \u001b[0;32mif\u001b[0m \u001b[0mamt\u001b[0m \u001b[0;34m!=\u001b[0m \u001b[0;36m0\u001b[0m \u001b[0;32mand\u001b[0m \u001b[0;32mnot\u001b[0m \u001b[0mdata\u001b[0m\u001b[0;34m:\u001b[0m  \u001b[0;31m# Platform-specific: Buggy versions of Python.\u001b[0m\u001b[0;34m\u001b[0m\u001b[0;34m\u001b[0m\u001b[0m\n\u001b[1;32m    444\u001b[0m                     \u001b[0;31m# Close the connection when no data is returned\u001b[0m\u001b[0;34m\u001b[0m\u001b[0;34m\u001b[0m\u001b[0;34m\u001b[0m\u001b[0m\n",
      "\u001b[0;32m~/Applications/anaconda3/lib/python3.7/http/client.py\u001b[0m in \u001b[0;36mread\u001b[0;34m(self, amt)\u001b[0m\n\u001b[1;32m    455\u001b[0m             \u001b[0;31m# Amount is given, implement using readinto\u001b[0m\u001b[0;34m\u001b[0m\u001b[0;34m\u001b[0m\u001b[0;34m\u001b[0m\u001b[0m\n\u001b[1;32m    456\u001b[0m             \u001b[0mb\u001b[0m \u001b[0;34m=\u001b[0m \u001b[0mbytearray\u001b[0m\u001b[0;34m(\u001b[0m\u001b[0mamt\u001b[0m\u001b[0;34m)\u001b[0m\u001b[0;34m\u001b[0m\u001b[0;34m\u001b[0m\u001b[0m\n\u001b[0;32m--> 457\u001b[0;31m             \u001b[0mn\u001b[0m \u001b[0;34m=\u001b[0m \u001b[0mself\u001b[0m\u001b[0;34m.\u001b[0m\u001b[0mreadinto\u001b[0m\u001b[0;34m(\u001b[0m\u001b[0mb\u001b[0m\u001b[0;34m)\u001b[0m\u001b[0;34m\u001b[0m\u001b[0;34m\u001b[0m\u001b[0m\n\u001b[0m\u001b[1;32m    458\u001b[0m             \u001b[0;32mreturn\u001b[0m \u001b[0mmemoryview\u001b[0m\u001b[0;34m(\u001b[0m\u001b[0mb\u001b[0m\u001b[0;34m)\u001b[0m\u001b[0;34m[\u001b[0m\u001b[0;34m:\u001b[0m\u001b[0mn\u001b[0m\u001b[0;34m]\u001b[0m\u001b[0;34m.\u001b[0m\u001b[0mtobytes\u001b[0m\u001b[0;34m(\u001b[0m\u001b[0;34m)\u001b[0m\u001b[0;34m\u001b[0m\u001b[0;34m\u001b[0m\u001b[0m\n\u001b[1;32m    459\u001b[0m         \u001b[0;32melse\u001b[0m\u001b[0;34m:\u001b[0m\u001b[0;34m\u001b[0m\u001b[0;34m\u001b[0m\u001b[0m\n",
      "\u001b[0;32m~/Applications/anaconda3/lib/python3.7/http/client.py\u001b[0m in \u001b[0;36mreadinto\u001b[0;34m(self, b)\u001b[0m\n\u001b[1;32m    499\u001b[0m         \u001b[0;31m# connection, and the user is reading more bytes than will be provided\u001b[0m\u001b[0;34m\u001b[0m\u001b[0;34m\u001b[0m\u001b[0;34m\u001b[0m\u001b[0m\n\u001b[1;32m    500\u001b[0m         \u001b[0;31m# (for example, reading in 1k chunks)\u001b[0m\u001b[0;34m\u001b[0m\u001b[0;34m\u001b[0m\u001b[0;34m\u001b[0m\u001b[0m\n\u001b[0;32m--> 501\u001b[0;31m         \u001b[0mn\u001b[0m \u001b[0;34m=\u001b[0m \u001b[0mself\u001b[0m\u001b[0;34m.\u001b[0m\u001b[0mfp\u001b[0m\u001b[0;34m.\u001b[0m\u001b[0mreadinto\u001b[0m\u001b[0;34m(\u001b[0m\u001b[0mb\u001b[0m\u001b[0;34m)\u001b[0m\u001b[0;34m\u001b[0m\u001b[0;34m\u001b[0m\u001b[0m\n\u001b[0m\u001b[1;32m    502\u001b[0m         \u001b[0;32mif\u001b[0m \u001b[0;32mnot\u001b[0m \u001b[0mn\u001b[0m \u001b[0;32mand\u001b[0m \u001b[0mb\u001b[0m\u001b[0;34m:\u001b[0m\u001b[0;34m\u001b[0m\u001b[0;34m\u001b[0m\u001b[0m\n\u001b[1;32m    503\u001b[0m             \u001b[0;31m# Ideally, we would raise IncompleteRead if the content-length\u001b[0m\u001b[0;34m\u001b[0m\u001b[0;34m\u001b[0m\u001b[0;34m\u001b[0m\u001b[0m\n",
      "\u001b[0;32m~/Applications/anaconda3/lib/python3.7/socket.py\u001b[0m in \u001b[0;36mreadinto\u001b[0;34m(self, b)\u001b[0m\n\u001b[1;32m    587\u001b[0m         \u001b[0;32mwhile\u001b[0m \u001b[0;32mTrue\u001b[0m\u001b[0;34m:\u001b[0m\u001b[0;34m\u001b[0m\u001b[0;34m\u001b[0m\u001b[0m\n\u001b[1;32m    588\u001b[0m             \u001b[0;32mtry\u001b[0m\u001b[0;34m:\u001b[0m\u001b[0;34m\u001b[0m\u001b[0;34m\u001b[0m\u001b[0m\n\u001b[0;32m--> 589\u001b[0;31m                 \u001b[0;32mreturn\u001b[0m \u001b[0mself\u001b[0m\u001b[0;34m.\u001b[0m\u001b[0m_sock\u001b[0m\u001b[0;34m.\u001b[0m\u001b[0mrecv_into\u001b[0m\u001b[0;34m(\u001b[0m\u001b[0mb\u001b[0m\u001b[0;34m)\u001b[0m\u001b[0;34m\u001b[0m\u001b[0;34m\u001b[0m\u001b[0m\n\u001b[0m\u001b[1;32m    590\u001b[0m             \u001b[0;32mexcept\u001b[0m \u001b[0mtimeout\u001b[0m\u001b[0;34m:\u001b[0m\u001b[0;34m\u001b[0m\u001b[0;34m\u001b[0m\u001b[0m\n\u001b[1;32m    591\u001b[0m                 \u001b[0mself\u001b[0m\u001b[0;34m.\u001b[0m\u001b[0m_timeout_occurred\u001b[0m \u001b[0;34m=\u001b[0m \u001b[0;32mTrue\u001b[0m\u001b[0;34m\u001b[0m\u001b[0;34m\u001b[0m\u001b[0m\n",
      "\u001b[0;31mKeyboardInterrupt\u001b[0m: "
     ]
    },
    {
     "name": "stderr",
     "output_type": "stream",
     "text": [
      "\n",
      "\n",
      "Downloading /Users/luke/Desktop/soda_clim/soda_3.4.2/soda3.4.2_5dy_ocean_reg_2009_01_15.nc:  19%|█▉        | 57.0M/299M [00:22<00:13, 18.2MB/s]\u001b[A\u001b[A\n",
      "\n",
      "\n",
      "Downloading /Users/luke/Desktop/soda_clim/soda_3.4.2/soda3.4.2_5dy_ocean_reg_2009_01_15.nc:   0%|          | 1.45M/299M [00:15<05:44, 864kB/s]\u001b[A\u001b[A\u001b[A"
     ]
    }
   ],
   "source": [
    "cb.soda_34.local_files(slice('2009-01-05', '2009-01-25'))"
   ]
  },
  {
   "cell_type": "code",
   "execution_count": 84,
   "metadata": {
    "Collapsed": "false"
   },
   "outputs": [
    {
     "data": {
      "text/plain": [
       "['http://dsrs.atmos.umd.edu/DATA/soda3.4.2/REGRIDED/ocean/soda3.4.2_5dy_ocean_reg_2010_01_01.nc',\n",
       " 'http://dsrs.atmos.umd.edu/DATA/soda3.4.2/REGRIDED/ocean/soda3.4.2_5dy_ocean_reg_2010_01_02.nc',\n",
       " 'http://dsrs.atmos.umd.edu/DATA/soda3.4.2/REGRIDED/ocean/soda3.4.2_5dy_ocean_reg_2010_01_03.nc',\n",
       " 'http://dsrs.atmos.umd.edu/DATA/soda3.4.2/REGRIDED/ocean/soda3.4.2_5dy_ocean_reg_2010_01_04.nc',\n",
       " 'http://dsrs.atmos.umd.edu/DATA/soda3.4.2/REGRIDED/ocean/soda3.4.2_5dy_ocean_reg_2010_01_06.nc',\n",
       " 'http://dsrs.atmos.umd.edu/DATA/soda3.4.2/REGRIDED/ocean/soda3.4.2_5dy_ocean_reg_2010_01_07.nc',\n",
       " 'http://dsrs.atmos.umd.edu/DATA/soda3.4.2/REGRIDED/ocean/soda3.4.2_5dy_ocean_reg_2010_01_08.nc',\n",
       " 'http://dsrs.atmos.umd.edu/DATA/soda3.4.2/REGRIDED/ocean/soda3.4.2_5dy_ocean_reg_2010_01_09.nc',\n",
       " 'http://dsrs.atmos.umd.edu/DATA/soda3.4.2/REGRIDED/ocean/soda3.4.2_5dy_ocean_reg_2010_01_11.nc',\n",
       " 'http://dsrs.atmos.umd.edu/DATA/soda3.4.2/REGRIDED/ocean/soda3.4.2_5dy_ocean_reg_2010_01_12.nc',\n",
       " 'http://dsrs.atmos.umd.edu/DATA/soda3.4.2/REGRIDED/ocean/soda3.4.2_5dy_ocean_reg_2010_01_13.nc',\n",
       " 'http://dsrs.atmos.umd.edu/DATA/soda3.4.2/REGRIDED/ocean/soda3.4.2_5dy_ocean_reg_2010_01_14.nc']"
      ]
     },
     "execution_count": 84,
     "metadata": {},
     "output_type": "execute_result"
    }
   ],
   "source": [
    "cb.soda_34.download_results.remote_not_exist"
   ]
  },
  {
   "cell_type": "code",
   "execution_count": 49,
   "metadata": {
    "Collapsed": "false"
   },
   "outputs": [
    {
     "name": "stdin",
     "output_type": "stream",
     "text": [
      "1 missing files to download. Continue [y/n]:  y\n"
     ]
    },
    {
     "name": "stdout",
     "output_type": "stream",
     "text": [
      "Downloading 1 lsce_ffnnv1 files with 1 jobs\n",
      "{'port': 22001}\n"
     ]
    },
    {
     "name": "stderr",
     "output_type": "stream",
     "text": [
      "Downloading /Users/luke/Desktop/pco2_denvilsommer/ffnn_v1/2013/dataset-carbon-rep-monthly_201309.nc: 100%|██████████| 777k/777k [00:02<00:00, 336kB/s]  \n"
     ]
    },
    {
     "data": {
      "text/plain": [
       "['/Users/luke/Desktop/pco2_denvilsommer/ffnn_v1/2010/dataset-carbon-rep-monthly_201001.nc',\n",
       " '/Users/luke/Desktop/pco2_denvilsommer/ffnn_v1/2010/dataset-carbon-rep-monthly_201002.nc',\n",
       " '/Users/luke/Desktop/pco2_denvilsommer/ffnn_v1/2010/dataset-carbon-rep-monthly_201003.nc',\n",
       " '/Users/luke/Desktop/pco2_denvilsommer/ffnn_v1/2010/dataset-carbon-rep-monthly_201004.nc',\n",
       " '/Users/luke/Desktop/pco2_denvilsommer/ffnn_v1/2010/dataset-carbon-rep-monthly_201005.nc',\n",
       " '/Users/luke/Desktop/pco2_denvilsommer/ffnn_v1/2010/dataset-carbon-rep-monthly_201006.nc',\n",
       " '/Users/luke/Desktop/pco2_denvilsommer/ffnn_v1/2010/dataset-carbon-rep-monthly_201007.nc',\n",
       " '/Users/luke/Desktop/pco2_denvilsommer/ffnn_v1/2010/dataset-carbon-rep-monthly_201008.nc',\n",
       " '/Users/luke/Desktop/pco2_denvilsommer/ffnn_v1/2010/dataset-carbon-rep-monthly_201009.nc',\n",
       " '/Users/luke/Desktop/pco2_denvilsommer/ffnn_v1/2010/dataset-carbon-rep-monthly_201010.nc',\n",
       " '/Users/luke/Desktop/pco2_denvilsommer/ffnn_v1/2010/dataset-carbon-rep-monthly_201011.nc',\n",
       " '/Users/luke/Desktop/pco2_denvilsommer/ffnn_v1/2010/dataset-carbon-rep-monthly_201012.nc',\n",
       " '/Users/luke/Desktop/pco2_denvilsommer/ffnn_v1/2011/dataset-carbon-rep-monthly_201101.nc',\n",
       " '/Users/luke/Desktop/pco2_denvilsommer/ffnn_v1/2011/dataset-carbon-rep-monthly_201102.nc',\n",
       " '/Users/luke/Desktop/pco2_denvilsommer/ffnn_v1/2011/dataset-carbon-rep-monthly_201103.nc',\n",
       " '/Users/luke/Desktop/pco2_denvilsommer/ffnn_v1/2011/dataset-carbon-rep-monthly_201104.nc',\n",
       " '/Users/luke/Desktop/pco2_denvilsommer/ffnn_v1/2011/dataset-carbon-rep-monthly_201105.nc',\n",
       " '/Users/luke/Desktop/pco2_denvilsommer/ffnn_v1/2011/dataset-carbon-rep-monthly_201106.nc',\n",
       " '/Users/luke/Desktop/pco2_denvilsommer/ffnn_v1/2011/dataset-carbon-rep-monthly_201107.nc',\n",
       " '/Users/luke/Desktop/pco2_denvilsommer/ffnn_v1/2011/dataset-carbon-rep-monthly_201108.nc',\n",
       " '/Users/luke/Desktop/pco2_denvilsommer/ffnn_v1/2011/dataset-carbon-rep-monthly_201109.nc',\n",
       " '/Users/luke/Desktop/pco2_denvilsommer/ffnn_v1/2011/dataset-carbon-rep-monthly_201110.nc',\n",
       " '/Users/luke/Desktop/pco2_denvilsommer/ffnn_v1/2011/dataset-carbon-rep-monthly_201111.nc',\n",
       " '/Users/luke/Desktop/pco2_denvilsommer/ffnn_v1/2011/dataset-carbon-rep-monthly_201112.nc',\n",
       " '/Users/luke/Desktop/pco2_denvilsommer/ffnn_v1/2012/dataset-carbon-rep-monthly_201201.nc',\n",
       " '/Users/luke/Desktop/pco2_denvilsommer/ffnn_v1/2012/dataset-carbon-rep-monthly_201202.nc',\n",
       " '/Users/luke/Desktop/pco2_denvilsommer/ffnn_v1/2012/dataset-carbon-rep-monthly_201203.nc',\n",
       " '/Users/luke/Desktop/pco2_denvilsommer/ffnn_v1/2012/dataset-carbon-rep-monthly_201204.nc',\n",
       " '/Users/luke/Desktop/pco2_denvilsommer/ffnn_v1/2012/dataset-carbon-rep-monthly_201205.nc',\n",
       " '/Users/luke/Desktop/pco2_denvilsommer/ffnn_v1/2012/dataset-carbon-rep-monthly_201206.nc',\n",
       " '/Users/luke/Desktop/pco2_denvilsommer/ffnn_v1/2012/dataset-carbon-rep-monthly_201207.nc',\n",
       " '/Users/luke/Desktop/pco2_denvilsommer/ffnn_v1/2012/dataset-carbon-rep-monthly_201208.nc',\n",
       " '/Users/luke/Desktop/pco2_denvilsommer/ffnn_v1/2012/dataset-carbon-rep-monthly_201209.nc',\n",
       " '/Users/luke/Desktop/pco2_denvilsommer/ffnn_v1/2012/dataset-carbon-rep-monthly_201210.nc',\n",
       " '/Users/luke/Desktop/pco2_denvilsommer/ffnn_v1/2012/dataset-carbon-rep-monthly_201211.nc',\n",
       " '/Users/luke/Desktop/pco2_denvilsommer/ffnn_v1/2012/dataset-carbon-rep-monthly_201212.nc',\n",
       " '/Users/luke/Desktop/pco2_denvilsommer/ffnn_v1/2013/dataset-carbon-rep-monthly_201301.nc',\n",
       " '/Users/luke/Desktop/pco2_denvilsommer/ffnn_v1/2013/dataset-carbon-rep-monthly_201302.nc',\n",
       " '/Users/luke/Desktop/pco2_denvilsommer/ffnn_v1/2013/dataset-carbon-rep-monthly_201303.nc',\n",
       " '/Users/luke/Desktop/pco2_denvilsommer/ffnn_v1/2013/dataset-carbon-rep-monthly_201304.nc',\n",
       " '/Users/luke/Desktop/pco2_denvilsommer/ffnn_v1/2013/dataset-carbon-rep-monthly_201305.nc',\n",
       " '/Users/luke/Desktop/pco2_denvilsommer/ffnn_v1/2013/dataset-carbon-rep-monthly_201306.nc',\n",
       " '/Users/luke/Desktop/pco2_denvilsommer/ffnn_v1/2013/dataset-carbon-rep-monthly_201307.nc',\n",
       " '/Users/luke/Desktop/pco2_denvilsommer/ffnn_v1/2013/dataset-carbon-rep-monthly_201308.nc',\n",
       " '/Users/luke/Desktop/pco2_denvilsommer/ffnn_v1/2013/dataset-carbon-rep-monthly_201309.nc']"
      ]
     },
     "execution_count": 49,
     "metadata": {},
     "output_type": "execute_result"
    }
   ],
   "source": [
    "cb.lsce_ffnnv1.local_files(slice('2010', '2013-09'))"
   ]
  },
  {
   "cell_type": "code",
   "execution_count": null,
   "metadata": {
    "Collapsed": "false"
   },
   "outputs": [],
   "source": []
  }
 ],
 "metadata": {
  "kernelspec": {
   "display_name": "Python 3",
   "language": "python",
   "name": "python3"
  },
  "language_info": {
   "codemirror_mode": {
    "name": "ipython",
    "version": 3
   },
   "file_extension": ".py",
   "mimetype": "text/x-python",
   "name": "python",
   "nbconvert_exporter": "python",
   "pygments_lexer": "ipython3",
   "version": "3.7.4"
  }
 },
 "nbformat": 4,
 "nbformat_minor": 4
}
