{
 "cells": [
  {
   "cell_type": "code",
   "execution_count": 19,
   "metadata": {
    "Collapsed": "false"
   },
   "outputs": [
    {
     "name": "stdout",
     "output_type": "stream",
     "text": [
      "The autoreload extension is already loaded. To reload it, use:\n",
      "  %reload_ext autoreload\n",
      "Populating the interactive namespace from numpy and matplotlib\n"
     ]
    }
   ],
   "source": [
    "%load_ext autoreload\n",
    "%pylab inline\n",
    "\n",
    "import numpy as np\n",
    "import pandas as pd\n",
    "\n",
    "import databrewery as db"
   ]
  },
  {
   "cell_type": "code",
   "execution_count": 23,
   "metadata": {},
   "outputs": [],
   "source": [
    "%autoreload 2"
   ]
  },
  {
   "cell_type": "code",
   "execution_count": 35,
   "metadata": {
    "Collapsed": "false"
   },
   "outputs": [],
   "source": [
    "cb = db.Catalog('../catalog_template.yml', verbose=2)"
   ]
  },
  {
   "cell_type": "code",
   "execution_count": null,
   "metadata": {},
   "outputs": [],
   "source": [
    "pd.Date"
   ]
  },
  {
   "cell_type": "code",
   "execution_count": 50,
   "metadata": {},
   "outputs": [
    {
     "data": {
      "text/plain": [
       "\u001b[0;31mSignature:\u001b[0m \u001b[0mcb\u001b[0m\u001b[0;34m.\u001b[0m\u001b[0mlsce_ffnnv1\u001b[0m\u001b[0;34m.\u001b[0m\u001b[0mdownload_data\u001b[0m\u001b[0;34m(\u001b[0m\u001b[0mdates\u001b[0m\u001b[0;34m,\u001b[0m \u001b[0mnjobs\u001b[0m\u001b[0;34m=\u001b[0m\u001b[0;36m1\u001b[0m\u001b[0;34m)\u001b[0m\u001b[0;34m\u001b[0m\u001b[0;34m\u001b[0m\u001b[0m\n",
       "\u001b[0;31mDocstring:\u001b[0m <no docstring>\n",
       "\u001b[0;31mFile:\u001b[0m      ~/Git/dataBrewery/databrewery/record.py\n",
       "\u001b[0;31mType:\u001b[0m      method\n"
      ]
     },
     "metadata": {},
     "output_type": "display_data"
    }
   ],
   "source": [
    "cb.lsce_ffnnv1.download_data?"
   ]
  },
  {
   "cell_type": "code",
   "execution_count": 17,
   "metadata": {},
   "outputs": [
    {
     "name": "stdout",
     "output_type": "stream",
     "text": [
      "Your Catalog contains the following Records\n",
      "===========================================\n",
      "lsce_ffnnv1     FTP     [pco2, ph]\n",
      "soda_34         HTTP    [temperature, salinity]\n",
      "\n",
      "Access all local paths via keywords through dataBrewery.MENU\n"
     ]
    }
   ],
   "source": [
    "cb.VARS.pco2."
   ]
  },
  {
   "cell_type": "code",
   "execution_count": 18,
   "metadata": {
    "Collapsed": "false"
   },
   "outputs": [
    {
     "name": "stdout",
     "output_type": "stream",
     "text": [
      "\n",
      "Download report for lsce_ffnnv1:\n",
      "----------------------\n",
      "remote_not_exist     0\n",
      "local_exists        48\n",
      "downloaded           0\n",
      "======================\n",
      "\n"
     ]
    },
    {
     "data": {
      "text/plain": [
       "['/Users/luke/Desktop/pco2_denvilsommer/ffnn_v1/2001/dataset-carbon-rep-monthly_200110.nc',\n",
       " '/Users/luke/Desktop/pco2_denvilsommer/ffnn_v1/2001/dataset-carbon-rep-monthly_200111.nc',\n",
       " '/Users/luke/Desktop/pco2_denvilsommer/ffnn_v1/2001/dataset-carbon-rep-monthly_200112.nc',\n",
       " '/Users/luke/Desktop/pco2_denvilsommer/ffnn_v1/2002/dataset-carbon-rep-monthly_200201.nc',\n",
       " '/Users/luke/Desktop/pco2_denvilsommer/ffnn_v1/2002/dataset-carbon-rep-monthly_200202.nc',\n",
       " '/Users/luke/Desktop/pco2_denvilsommer/ffnn_v1/2002/dataset-carbon-rep-monthly_200203.nc',\n",
       " '/Users/luke/Desktop/pco2_denvilsommer/ffnn_v1/2002/dataset-carbon-rep-monthly_200204.nc',\n",
       " '/Users/luke/Desktop/pco2_denvilsommer/ffnn_v1/2002/dataset-carbon-rep-monthly_200205.nc',\n",
       " '/Users/luke/Desktop/pco2_denvilsommer/ffnn_v1/2002/dataset-carbon-rep-monthly_200206.nc',\n",
       " '/Users/luke/Desktop/pco2_denvilsommer/ffnn_v1/2002/dataset-carbon-rep-monthly_200207.nc',\n",
       " '/Users/luke/Desktop/pco2_denvilsommer/ffnn_v1/2002/dataset-carbon-rep-monthly_200208.nc',\n",
       " '/Users/luke/Desktop/pco2_denvilsommer/ffnn_v1/2002/dataset-carbon-rep-monthly_200209.nc',\n",
       " '/Users/luke/Desktop/pco2_denvilsommer/ffnn_v1/2002/dataset-carbon-rep-monthly_200210.nc',\n",
       " '/Users/luke/Desktop/pco2_denvilsommer/ffnn_v1/2002/dataset-carbon-rep-monthly_200211.nc',\n",
       " '/Users/luke/Desktop/pco2_denvilsommer/ffnn_v1/2002/dataset-carbon-rep-monthly_200212.nc',\n",
       " '/Users/luke/Desktop/pco2_denvilsommer/ffnn_v1/2003/dataset-carbon-rep-monthly_200301.nc',\n",
       " '/Users/luke/Desktop/pco2_denvilsommer/ffnn_v1/2003/dataset-carbon-rep-monthly_200302.nc',\n",
       " '/Users/luke/Desktop/pco2_denvilsommer/ffnn_v1/2003/dataset-carbon-rep-monthly_200303.nc',\n",
       " '/Users/luke/Desktop/pco2_denvilsommer/ffnn_v1/2003/dataset-carbon-rep-monthly_200304.nc',\n",
       " '/Users/luke/Desktop/pco2_denvilsommer/ffnn_v1/2003/dataset-carbon-rep-monthly_200305.nc',\n",
       " '/Users/luke/Desktop/pco2_denvilsommer/ffnn_v1/2003/dataset-carbon-rep-monthly_200306.nc',\n",
       " '/Users/luke/Desktop/pco2_denvilsommer/ffnn_v1/2003/dataset-carbon-rep-monthly_200307.nc',\n",
       " '/Users/luke/Desktop/pco2_denvilsommer/ffnn_v1/2003/dataset-carbon-rep-monthly_200308.nc',\n",
       " '/Users/luke/Desktop/pco2_denvilsommer/ffnn_v1/2003/dataset-carbon-rep-monthly_200309.nc',\n",
       " '/Users/luke/Desktop/pco2_denvilsommer/ffnn_v1/2003/dataset-carbon-rep-monthly_200310.nc',\n",
       " '/Users/luke/Desktop/pco2_denvilsommer/ffnn_v1/2003/dataset-carbon-rep-monthly_200311.nc',\n",
       " '/Users/luke/Desktop/pco2_denvilsommer/ffnn_v1/2003/dataset-carbon-rep-monthly_200312.nc',\n",
       " '/Users/luke/Desktop/pco2_denvilsommer/ffnn_v1/2004/dataset-carbon-rep-monthly_200401.nc',\n",
       " '/Users/luke/Desktop/pco2_denvilsommer/ffnn_v1/2004/dataset-carbon-rep-monthly_200402.nc',\n",
       " '/Users/luke/Desktop/pco2_denvilsommer/ffnn_v1/2004/dataset-carbon-rep-monthly_200403.nc',\n",
       " '/Users/luke/Desktop/pco2_denvilsommer/ffnn_v1/2004/dataset-carbon-rep-monthly_200404.nc',\n",
       " '/Users/luke/Desktop/pco2_denvilsommer/ffnn_v1/2004/dataset-carbon-rep-monthly_200405.nc',\n",
       " '/Users/luke/Desktop/pco2_denvilsommer/ffnn_v1/2004/dataset-carbon-rep-monthly_200406.nc',\n",
       " '/Users/luke/Desktop/pco2_denvilsommer/ffnn_v1/2004/dataset-carbon-rep-monthly_200407.nc',\n",
       " '/Users/luke/Desktop/pco2_denvilsommer/ffnn_v1/2004/dataset-carbon-rep-monthly_200408.nc',\n",
       " '/Users/luke/Desktop/pco2_denvilsommer/ffnn_v1/2004/dataset-carbon-rep-monthly_200409.nc',\n",
       " '/Users/luke/Desktop/pco2_denvilsommer/ffnn_v1/2004/dataset-carbon-rep-monthly_200410.nc',\n",
       " '/Users/luke/Desktop/pco2_denvilsommer/ffnn_v1/2004/dataset-carbon-rep-monthly_200411.nc',\n",
       " '/Users/luke/Desktop/pco2_denvilsommer/ffnn_v1/2004/dataset-carbon-rep-monthly_200412.nc',\n",
       " '/Users/luke/Desktop/pco2_denvilsommer/ffnn_v1/2005/dataset-carbon-rep-monthly_200501.nc',\n",
       " '/Users/luke/Desktop/pco2_denvilsommer/ffnn_v1/2005/dataset-carbon-rep-monthly_200502.nc',\n",
       " '/Users/luke/Desktop/pco2_denvilsommer/ffnn_v1/2005/dataset-carbon-rep-monthly_200503.nc',\n",
       " '/Users/luke/Desktop/pco2_denvilsommer/ffnn_v1/2005/dataset-carbon-rep-monthly_200504.nc',\n",
       " '/Users/luke/Desktop/pco2_denvilsommer/ffnn_v1/2005/dataset-carbon-rep-monthly_200505.nc',\n",
       " '/Users/luke/Desktop/pco2_denvilsommer/ffnn_v1/2005/dataset-carbon-rep-monthly_200506.nc',\n",
       " '/Users/luke/Desktop/pco2_denvilsommer/ffnn_v1/2005/dataset-carbon-rep-monthly_200507.nc',\n",
       " '/Users/luke/Desktop/pco2_denvilsommer/ffnn_v1/2005/dataset-carbon-rep-monthly_200508.nc',\n",
       " '/Users/luke/Desktop/pco2_denvilsommer/ffnn_v1/2005/dataset-carbon-rep-monthly_200509.nc']"
      ]
     },
     "execution_count": 18,
     "metadata": {},
     "output_type": "execute_result"
    }
   ],
   "source": [
    "cb.lsce_ffnnv1.local_files(slice('2001-10-01', '2005-09-01'), automatic_download=True)"
   ]
  },
  {
   "cell_type": "code",
   "execution_count": null,
   "metadata": {},
   "outputs": [],
   "source": []
  }
 ],
 "metadata": {
  "kernelspec": {
   "display_name": "Python 3",
   "language": "python",
   "name": "python3"
  },
  "language_info": {
   "codemirror_mode": {
    "name": "ipython",
    "version": 3
   },
   "file_extension": ".py",
   "mimetype": "text/x-python",
   "name": "python",
   "nbconvert_exporter": "python",
   "pygments_lexer": "ipython3",
   "version": "3.7.6"
  }
 },
 "nbformat": 4,
 "nbformat_minor": 4
}
